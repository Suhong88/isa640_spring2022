{
 "cells": [
  {
   "cell_type": "code",
   "execution_count": 1,
   "id": "863c3098",
   "metadata": {},
   "outputs": [
    {
     "name": "stdout",
     "output_type": "stream",
     "text": [
      "Requirement already satisfied: tweepy==3.9.0 in c:\\users\\sli\\anaconda3\\lib\\site-packages (3.9.0)\n",
      "Requirement already satisfied: requests-oauthlib>=0.7.0 in c:\\users\\sli\\anaconda3\\lib\\site-packages (from tweepy==3.9.0) (1.3.0)\n",
      "Requirement already satisfied: requests[socks]>=2.11.1 in c:\\users\\sli\\anaconda3\\lib\\site-packages (from tweepy==3.9.0) (2.27.1)\n",
      "Requirement already satisfied: six>=1.10.0 in c:\\users\\sli\\anaconda3\\lib\\site-packages (from tweepy==3.9.0) (1.16.0)\n",
      "Requirement already satisfied: oauthlib>=3.0.0 in c:\\users\\sli\\anaconda3\\lib\\site-packages (from requests-oauthlib>=0.7.0->tweepy==3.9.0) (3.2.0)\n",
      "Requirement already satisfied: charset-normalizer~=2.0.0 in c:\\users\\sli\\anaconda3\\lib\\site-packages (from requests[socks]>=2.11.1->tweepy==3.9.0) (2.0.4)\n",
      "Requirement already satisfied: certifi>=2017.4.17 in c:\\users\\sli\\anaconda3\\lib\\site-packages (from requests[socks]>=2.11.1->tweepy==3.9.0) (2021.5.30)\n",
      "Requirement already satisfied: idna<4,>=2.5 in c:\\users\\sli\\anaconda3\\lib\\site-packages (from requests[socks]>=2.11.1->tweepy==3.9.0) (3.2)\n",
      "Requirement already satisfied: urllib3<1.27,>=1.21.1 in c:\\users\\sli\\anaconda3\\lib\\site-packages (from requests[socks]>=2.11.1->tweepy==3.9.0) (1.26.6)\n",
      "Requirement already satisfied: PySocks!=1.5.7,>=1.5.6 in c:\\users\\sli\\anaconda3\\lib\\site-packages (from requests[socks]>=2.11.1->tweepy==3.9.0) (1.7.1)\n"
     ]
    }
   ],
   "source": [
    "!pip install tweepy==3.9.0"
   ]
  },
  {
   "cell_type": "code",
   "execution_count": null,
   "id": "22e04bcc",
   "metadata": {
    "scrolled": false
   },
   "outputs": [
    {
     "name": "stdout",
     "output_type": "stream",
     "text": [
      "2022_03_28_17:28:42\n",
      "2022_03_28_17:28:42\n",
      "2022_03_28_17:28:43\n",
      "2022_03_28_17:28:43\n",
      "2022_03_28_17:28:43\n",
      "2022_03_28_17:28:44\n",
      "2022_03_28_17:28:46\n",
      "2022_03_28_17:28:48\n",
      "2022_03_28_17:28:50\n",
      "2022_03_28_17:28:50\n",
      "2022_03_28_17:28:51\n"
     ]
    }
   ],
   "source": [
    "# This script will save all tweets into a new file\n",
    "\n",
    "from tweepy import Stream\n",
    "from tweepy import OAuthHandler\n",
    "from tweepy.streaming import StreamListener\n",
    "import json\n",
    "import time\n",
    "import os\n",
    "import sys\n",
    "\n",
    "#consumer key, consumer secret, access token, access secret. Those are from my academic account\n",
    "consumer_key= '##'\n",
    "consumer_secret= '##'\n",
    "access_token= '##'\n",
    "access_token_secret= '##'\n",
    "\n",
    "class StdOutListener(StreamListener):\n",
    "    def on_data(self, data):\n",
    "        current_time =time.strftime(\"%Y_%m_%d_%H:%M:%S\", time.gmtime())\n",
    "        print(current_time)\n",
    "        file_name='climate_change.json'\n",
    "        with open(file_name, 'a') as tf:\n",
    "            tf.write(data)\n",
    "        return True\n",
    "\n",
    "    def on_error(self, status):\n",
    "        print(status)\n",
    "\n",
    "auth = OAuthHandler(consumer_key, consumer_secret)\n",
    "auth.set_access_token(access_token, access_token_secret)\n",
    "\n",
    "while True:\n",
    "    try:\n",
    "        twitterStream = Stream(auth, StdOutListener())\n",
    "        twitterStream.filter(track=[\"#climatechange\", \"#climatechangeisreal\", \"#globalwarming\", \"climate change\"])\n",
    "    except:\n",
    "        time.sleep(60)"
   ]
  },
  {
   "cell_type": "code",
   "execution_count": null,
   "id": "3b4dcf8e",
   "metadata": {},
   "outputs": [],
   "source": []
  }
 ],
 "metadata": {
  "kernelspec": {
   "display_name": "Python 3 (ipykernel)",
   "language": "python",
   "name": "python3"
  },
  "language_info": {
   "codemirror_mode": {
    "name": "ipython",
    "version": 3
   },
   "file_extension": ".py",
   "mimetype": "text/x-python",
   "name": "python",
   "nbconvert_exporter": "python",
   "pygments_lexer": "ipython3",
   "version": "3.8.3"
  }
 },
 "nbformat": 4,
 "nbformat_minor": 5
}
